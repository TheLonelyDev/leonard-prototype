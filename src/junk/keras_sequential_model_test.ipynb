{
 "cells": [
  {
   "cell_type": "code",
   "execution_count": 48,
   "metadata": {
    "collapsed": true,
    "pycharm": {
     "is_executing": false
    }
   },
   "outputs": [
    {
     "name": "stdout",
     "text": [
      "[[ 1.97078811 -0.00264214 -1.0737126  ... -1.89049045  1.5545892\n  -1.25619467]\n [ 1.55071627 -0.42694779 -0.11007222 ...  0.59785822 -0.31616325\n   0.65990093]\n [-0.18485484  0.27231828  0.35436629 ...  1.0890116   0.28842696\n   0.82123245]\n ...\n [-0.72779563 -0.71908644 -0.63014565 ... -1.24158907  1.76018221\n  -1.11988922]\n [-0.43478339 -0.35727698  0.28567164 ...  0.34345381 -0.4935394\n   0.17078686]\n [ 0.43619322  0.30413935  1.03472585 ...  0.97761511 -0.22023614\n   1.23341565]]\n[[0.87699199 0.47783551 0.4115961  ... 0.16236142 0.80289728 0.30833927]\n [0.79777424 0.40884202 0.58697717 ... 0.6403869  0.47834692 0.65782604]\n [0.47047776 0.52254498 0.67150426 ... 0.73474017 0.58323518 0.68725215]\n ...\n [0.3680892  0.36133932 0.4923246  ... 0.28701895 0.8385649  0.33320074]\n [0.42334587 0.42017073 0.65900194 ... 0.59151441 0.44757455 0.56861395]\n [0.58759589 0.52771919 0.79532865 ... 0.71334029 0.49498899 0.76243241]]\n",
      "X=[0.32811958 0.3684572  0.56596659 0.41829308 0.22253212 0.63485849\n 0.43665285 0.56928143 0.34256111 0.61627897 0.45478554 0.58591001\n 0.52054486 0.52763781 0.49752339 0.63436944 0.56996744 0.525054\n 0.60011334 0.46076235 0.72591479 0.42488887 0.47592002 0.4286026\n 0.65619277], Predicted=[0.45012], Result=0\n"
     ],
     "output_type": "stream"
    }
   ],
   "source": [
    "from keras.models import Sequential\n",
    "from keras.layers import Dense\n",
    "from sklearn.datasets import make_regression\n",
    "from sklearn.preprocessing import MinMaxScaler\n",
    "from sklearn.preprocessing import LabelEncoder, StandardScaler\n",
    "from numpy import array\n",
    "import numpy\n",
    "import pandas\n",
    "\n",
    "data = pandas.read_json('./data.json')\n",
    "#data = data.head()\n",
    "data = data.drop(['filename'],axis=1)\n",
    "data = data.head(450)\n",
    "genre_list = data.iloc[:, 0]\n",
    "    \n",
    "encoder = LabelEncoder()\n",
    "yGenres = encoder.fit_transform(genre_list)\n",
    "# Angry, Happy, Relaxed, Sad\n",
    "XTracks = numpy.array(data.iloc[:, 1:], dtype = float)    \n",
    "\n",
    "# generate regression dataset\n",
    "\n",
    "X = XTracks\n",
    "y = yGenres\n",
    "\n",
    "scalarX, scalarY = MinMaxScaler(), MinMaxScaler()\n",
    "scalarX.fit(X)\n",
    "\n",
    "scaler = StandardScaler()\n",
    "\n",
    "print(scaler.fit_transform(X))\n",
    "print(scalarX.fit_transform(X))\n",
    "X = scalarX.fit_transform(X)\n",
    "\n",
    "# define and fit the final model\n",
    "model = Sequential()\n",
    "model.add(Dense(4, input_shape=(X.shape[1],), activation='relu'))\n",
    "model.add(Dense(4, activation='relu'))\n",
    "model.add(Dense(1, activation='linear'))\n",
    "model.add(Dense(1, activation='linear'))\n",
    "model.compile(loss='mse', optimizer='adam')\n",
    "model.fit(X, y, epochs=30, verbose=False)\n",
    "# new instance where we do not know the answer\n",
    "Xnew = array([X[400]])\n",
    "# make a prediction\n",
    "ynew = model.predict(Xnew)\n",
    "# show the inputs and predicted outputs\n",
    "print(\"X=%s, Predicted=%s, Result=%s\" % (Xnew[0], ynew[0], numpy.argmax(ynew[0])))\n"
   ]
  }
 ],
 "metadata": {
  "kernelspec": {
   "display_name": "Python 3",
   "language": "python",
   "name": "python3"
  },
  "language_info": {
   "codemirror_mode": {
    "name": "ipython",
    "version": 2
   },
   "file_extension": ".py",
   "mimetype": "text/x-python",
   "name": "python",
   "nbconvert_exporter": "python",
   "pygments_lexer": "ipython2",
   "version": "2.7.6"
  },
  "pycharm": {
   "stem_cell": {
    "cell_type": "raw",
    "source": [],
    "metadata": {
     "collapsed": false
    }
   }
  }
 },
 "nbformat": 4,
 "nbformat_minor": 0
}